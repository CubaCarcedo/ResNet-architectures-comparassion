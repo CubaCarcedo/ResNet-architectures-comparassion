{
  "nbformat": 4,
  "nbformat_minor": 0,
  "metadata": {
    "colab": {
      "provenance": [],
      "gpuType": "T4",
      "authorship_tag": "ABX9TyPnZuj8dQrC1dMgcV6Q4/pt",
      "include_colab_link": true
    },
    "kernelspec": {
      "name": "python3",
      "display_name": "Python 3"
    },
    "language_info": {
      "name": "python"
    },
    "accelerator": "GPU"
  },
  "cells": [
    {
      "cell_type": "markdown",
      "metadata": {
        "id": "view-in-github",
        "colab_type": "text"
      },
      "source": [
        "<a href=\"https://colab.research.google.com/github/gabrielcarcedo/ResNet-architectures-comparassion/blob/main/ResNet_Comparassion.ipynb\" target=\"_parent\"><img src=\"https://colab.research.google.com/assets/colab-badge.svg\" alt=\"Open In Colab\"/></a>"
      ]
    },
    {
      "cell_type": "markdown",
      "source": [
        "# Notebook para comparar las arquitecturas clásiscas de Redes Neuronales Recurrentes:\n",
        "\n",
        "> - ## ResNet-18\n",
        "> - ## ResNet-34\n",
        "> - ## ResNet-50\n",
        "> - ## ResNet-101\n",
        "> - ## ResNet-152\n",
        "\n",
        "## <strong>Objetivo:</strong> Clasificar imágenes del dataset de <a href=\"https://www.cs.toronto.edu/~kriz/cifar.html\">CIFAR-10</a>\n",
        "\n",
        "![CIFAR-10 Dataset](https://production-media.paperswithcode.com/datasets/4fdf2b82-2bc3-4f97-ba51-400322b228b1.png)\n",
        "\n",
        "> ### Presenta: Gabriel Carcedo Rodríguez\n",
        "> ### Posgrado en Ciencias en Ingeniería de la Computación\n",
        "> ### Universidad Nacional Autónoma de México\n"
      ],
      "metadata": {
        "id": "3hDxltdqN59W"
      }
    },
    {
      "cell_type": "code",
      "execution_count": 1,
      "metadata": {
        "id": "8q_SAOQsN0qZ"
      },
      "outputs": [],
      "source": [
        "#@markdown # Paquetes Necesarios\n",
        "#@markdown # Utilización del Framework <strong>Pytorch</strong>\n",
        "\n",
        "import torch\n",
        "import torch.nn as nn\n",
        "import torch.optim as optim\n",
        "import torchvision.transforms as transforms\n",
        "import torchvision.datasets as datasets\n",
        "import torchvision.models as models\n",
        "from torch.utils.data import DataLoader\n",
        "import matplotlib.pyplot as plt\n"
      ]
    },
    {
      "cell_type": "code",
      "source": [
        "#@markdown # Configuración\n",
        "\n",
        "DEVICE = torch.device(\"cuda\" if torch.cuda.is_available() else \"cpu\")\n",
        "BATCH_SIZE = 128\n",
        "EPOCHS = 5  # Reducido para demostración rápida\n"
      ],
      "metadata": {
        "id": "T6rELphEQABs"
      },
      "execution_count": 2,
      "outputs": []
    },
    {
      "cell_type": "code",
      "source": [
        "#@markdown # Transformaciones para CIFAR-10\n",
        "\n",
        "# Transformaciones para CIFAR-10\n",
        "transform = transforms.Compose([\n",
        "    transforms.Resize((224, 224)),  # ResNet requiere 224x224\n",
        "    transforms.ToTensor(),\n",
        "    transforms.Normalize((0.5, 0.5, 0.5), (0.5, 0.5, 0.5)),\n",
        "])\n"
      ],
      "metadata": {
        "id": "I1KJ9bMcP__G"
      },
      "execution_count": 3,
      "outputs": []
    },
    {
      "cell_type": "code",
      "source": [
        "#@markdown # Cargar dataset CIFAR-10\n",
        "\n",
        "# Cargar dataset CIFAR-10\n",
        "dataset_train = datasets.CIFAR10(root=\"./data\", train=True, download=True, transform=transform)\n",
        "dataset_test = datasets.CIFAR10(root=\"./data\", train=False, download=True, transform=transform)\n",
        "\n",
        "train_loader = DataLoader(dataset_train, batch_size=BATCH_SIZE, shuffle=True)\n",
        "test_loader = DataLoader(dataset_test, batch_size=BATCH_SIZE, shuffle=False)\n"
      ],
      "metadata": {
        "colab": {
          "base_uri": "https://localhost:8080/"
        },
        "id": "bw5mzj2uP_76",
        "outputId": "08c0a31d-3f64-4067-e180-9ddf131ae4b7"
      },
      "execution_count": 4,
      "outputs": [
        {
          "output_type": "stream",
          "name": "stdout",
          "text": [
            "Downloading https://www.cs.toronto.edu/~kriz/cifar-10-python.tar.gz to ./data/cifar-10-python.tar.gz\n"
          ]
        },
        {
          "output_type": "stream",
          "name": "stderr",
          "text": [
            "100%|██████████| 170M/170M [00:03<00:00, 46.7MB/s]\n"
          ]
        },
        {
          "output_type": "stream",
          "name": "stdout",
          "text": [
            "Extracting ./data/cifar-10-python.tar.gz to ./data\n",
            "Files already downloaded and verified\n"
          ]
        }
      ]
    },
    {
      "cell_type": "code",
      "source": [
        "#@markdown # Función para entrenar y evaluar un modelo\n",
        "\n",
        "# Función de entrenamiento y evaluación\n",
        "def train_and_evaluate(model_name, model):\n",
        "    print(f\"Entrenando {model_name}...\")\n",
        "\n",
        "    model.to(DEVICE)\n",
        "    criterion = nn.CrossEntropyLoss()\n",
        "    optimizer = optim.Adam(model.parameters(), lr=0.001)\n",
        "\n",
        "    train_losses = []\n",
        "    val_losses = []\n",
        "\n",
        "    # Entrenamiento\n",
        "    for epoch in range(EPOCHS):\n",
        "        model.train()\n",
        "        running_loss = 0.0\n",
        "        for images, labels in train_loader:\n",
        "            images, labels = images.to(DEVICE), labels.to(DEVICE)\n",
        "            optimizer.zero_grad()\n",
        "            outputs = model(images)\n",
        "            loss = criterion(outputs, labels)\n",
        "            loss.backward()\n",
        "            optimizer.step()\n",
        "            running_loss += loss.item()\n",
        "        train_losses.append(running_loss / len(train_loader))\n",
        "        print(f\"{model_name} - Epoch [{epoch+1}/{EPOCHS}], Loss: {running_loss / len(train_loader):.4f}\")\n",
        "\n",
        "        # Evaluación\n",
        "        model.eval()\n",
        "        val_loss = 0.0\n",
        "        with torch.no_grad():\n",
        "            for images, labels in test_loader:\n",
        "                images, labels = images.to(DEVICE), labels.to(DEVICE)\n",
        "                outputs = model(images)\n",
        "                loss = criterion(outputs, labels)\n",
        "                val_loss += loss.item()\n",
        "        val_losses.append(val_loss / len(test_loader))\n",
        "\n",
        "    # Visualización de pérdida\n",
        "    plt.figure(figsize=(8,5))\n",
        "    plt.plot(range(1, EPOCHS+1), train_losses, label='Train Loss')\n",
        "    plt.plot(range(1, EPOCHS+1), val_losses, label='Validation Loss')\n",
        "    plt.xlabel('Epochs')\n",
        "    plt.ylabel('Loss')\n",
        "    plt.title(f'Loss Convergence for {model_name}')\n",
        "    plt.legend()\n",
        "    plt.show()\n",
        "\n",
        "    # Precisión\n",
        "    correct = 0\n",
        "    total = 0\n",
        "    with torch.no_grad():\n",
        "        for images, labels in test_loader:\n",
        "            images, labels = images.to(DEVICE), labels.to(DEVICE)\n",
        "            outputs = model(images)\n",
        "            _, predicted = torch.max(outputs, 1)\n",
        "            total += labels.size(0)\n",
        "            correct += (predicted == labels).sum().item()\n",
        "\n",
        "    accuracy = 100 * correct / total\n",
        "    print(f\"{model_name} - Precisión en CIFAR-10: {accuracy:.2f}%\\n\")\n",
        "    return accuracy\n"
      ],
      "metadata": {
        "id": "zaPUYUREP_2G"
      },
      "execution_count": 5,
      "outputs": []
    },
    {
      "cell_type": "code",
      "source": [
        "#@markdown # Modelos ResNet disponibles en torchvision\n",
        "def run_model(model_name, model_func):\n",
        "    model = model_func(pretrained=False)  # Sin pesos preentrenados para evaluación justa\n",
        "    model.fc = nn.Linear(model.fc.in_features, 10)  # Ajuste para 10 clases\n",
        "    accuracy = train_and_evaluate(model_name, model)\n",
        "    print(f\"{model_name}: {accuracy:.2f}%\")\n"
      ],
      "metadata": {
        "id": "XalXlUG5P_rQ"
      },
      "execution_count": 6,
      "outputs": []
    },
    {
      "cell_type": "code",
      "source": [
        "#@markdown # Ejecución de modelo <strong>ResNet-18</strong>\n",
        "\n",
        "run_model(\"ResNet-18\", models.resnet18)\n"
      ],
      "metadata": {
        "colab": {
          "base_uri": "https://localhost:8080/"
        },
        "id": "PnCSWa4zn1Zh",
        "outputId": "eeb3b47c-1d97-4f33-daeb-26803a48a162"
      },
      "execution_count": null,
      "outputs": [
        {
          "output_type": "stream",
          "name": "stderr",
          "text": [
            "/usr/local/lib/python3.11/dist-packages/torchvision/models/_utils.py:208: UserWarning: The parameter 'pretrained' is deprecated since 0.13 and may be removed in the future, please use 'weights' instead.\n",
            "  warnings.warn(\n",
            "/usr/local/lib/python3.11/dist-packages/torchvision/models/_utils.py:223: UserWarning: Arguments other than a weight enum or `None` for 'weights' are deprecated since 0.13 and may be removed in the future. The current behavior is equivalent to passing `weights=None`.\n",
            "  warnings.warn(msg)\n"
          ]
        },
        {
          "output_type": "stream",
          "name": "stdout",
          "text": [
            "Entrenando ResNet-18...\n"
          ]
        }
      ]
    },
    {
      "cell_type": "code",
      "source": [
        "#@markdown # Ejecución de modelo <strong>ResNet-34</strong>\n",
        "\n",
        "run_model(\"ResNet-34\", models.resnet34)"
      ],
      "metadata": {
        "id": "kPdpVl2eoHkw"
      },
      "execution_count": null,
      "outputs": []
    },
    {
      "cell_type": "code",
      "source": [
        "#@markdown # Ejecución de modelo <strong>ResNet-50</strong>\n",
        "\n",
        "run_model(\"ResNet-50\", models.resnet50)"
      ],
      "metadata": {
        "id": "LyUz0IsGoHZ3"
      },
      "execution_count": null,
      "outputs": []
    },
    {
      "cell_type": "code",
      "source": [
        "#@markdown # Ejecución de modelo <strong>ResNet-101</strong>\n",
        "\n",
        "run_model(\"ResNet-101\", models.resnet101)"
      ],
      "metadata": {
        "id": "YauGBo_WoHWc"
      },
      "execution_count": null,
      "outputs": []
    },
    {
      "cell_type": "code",
      "source": [
        "#@markdown # Ejecución de modelo <strong>ResNet-152</strong>\n",
        "\n",
        "run_model(\"ResNet-152\", models.resnet152)"
      ],
      "metadata": {
        "id": "ldefwxlHoL19"
      },
      "execution_count": null,
      "outputs": []
    }
  ]
}